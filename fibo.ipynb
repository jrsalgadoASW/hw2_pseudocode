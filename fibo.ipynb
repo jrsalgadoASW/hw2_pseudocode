{
 "cells": [
  {
   "attachments": {},
   "cell_type": "markdown",
   "metadata": {},
   "source": [
    "# Fibonacci"
   ]
  },
  {
   "attachments": {},
   "cell_type": "markdown",
   "metadata": {},
   "source": [
    "## Pseudocode"
   ]
  },
  {
   "attachments": {},
   "cell_type": "markdown",
   "metadata": {},
   "source": [
    "```\n",
    "\\fn n_fibo(n):\n",
    "    res_fibo = 0\n",
    "    \\if {n == 0 }\n",
    "        return 0\n",
    "    \\endif\n",
    "    \\if {n == 1 }\n",
    "        return 1\n",
    "    \\endif\n",
    "    return n_fibo(n-1) - n_fibo(n-2)\n",
    "\\endfn\n",
    "```\n",
    "```\n",
    "\\fn n_fibo_list(n):\n",
    "    list = []\n",
    "    for index from 0 to n:\n",
    "        list = list + n_fibo\n",
    "    return list\n",
    "\\endfn\n",
    "```\n",
    "\n"
   ]
  },
  {
   "attachments": {},
   "cell_type": "markdown",
   "metadata": {},
   "source": [
    "## Analysis"
   ]
  },
  {
   "attachments": {},
   "cell_type": "markdown",
   "metadata": {},
   "source": [
    "The n_fibo number is a recursive function that goes down two trees, so the complexity is $O(n^2)$. Inside n_fibo_list there a loop of size n. So the total would be $O(n^3)$. This is clearly not an optimal algorithm. "
   ]
  },
  {
   "cell_type": "markdown",
   "metadata": {},
   "source": []
  }
 ],
 "metadata": {
  "kernelspec": {
   "display_name": ".venv",
   "language": "python",
   "name": "python3"
  },
  "language_info": {
   "name": "python",
   "version": "3.10.6"
  },
  "orig_nbformat": 4,
  "vscode": {
   "interpreter": {
    "hash": "1c364f05d66defba0a6a129acd038123b55a6ccb36d1bf9dad2c42b7d360c856"
   }
  }
 },
 "nbformat": 4,
 "nbformat_minor": 2
}
