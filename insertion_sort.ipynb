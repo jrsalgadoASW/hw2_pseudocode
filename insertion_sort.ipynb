{
 "cells": [
  {
   "attachments": {},
   "cell_type": "markdown",
   "metadata": {},
   "source": [
    "# Insertion Sort"
   ]
  },
  {
   "attachments": {},
   "cell_type": "markdown",
   "metadata": {},
   "source": [
    "## Algorithm"
   ]
  },
  {
   "attachments": {},
   "cell_type": "markdown",
   "metadata": {},
   "source": [
    "1. Start by considering the first element in the array as sorted.\n",
    "2. Pick the second element in the array and store it in a variable called \"key\".\n",
    "3. Compare the key to each element in the sorted subarray (to the left of the key) in reverse order.\n",
    "4. If any of the elements in the sorted subarray is greater than the key, move it one position ahead of its current position.\n",
    "5. Once all elements have been compared and shifted as necessary, insert the key in the correct position.\n",
    "6. Repeat the process for all elements in the array.\n",
    "The array will be fully sorted once all elements have been processed."
   ]
  },
  {
   "attachments": {},
   "cell_type": "markdown",
   "metadata": {},
   "source": [
    "## Pseudocode"
   ]
  },
  {
   "attachments": {},
   "cell_type": "markdown",
   "metadata": {},
   "source": [
    "```\n",
    "\\fn insertion_sort(list):\n",
    "    \\for{unsorted_list_index from 1 to |list| }:\n",
    "        \\for{sorted_list_index from 0 to unsorted_list_index}:\n",
    "            \\if {list[unsorted_list_index] > list[sorted_list_index] }\n",
    "                swap(list[sorted_list_index], list[sorted_list_index+1])\n",
    "            \\endif\n",
    "        \\endfor\n",
    "    \\endfor\n",
    "\\endfn\n",
    "```"
   ]
  },
  {
   "attachments": {},
   "cell_type": "markdown",
   "metadata": {},
   "source": [
    "## Analysis"
   ]
  },
  {
   "attachments": {},
   "cell_type": "markdown",
   "metadata": {},
   "source": [
    "There is a nested for that iterates over all the elements of the list (let's call this n). This would mean a complexity of $O(n^2)$."
   ]
  }
 ],
 "metadata": {
  "kernelspec": {
   "display_name": ".venv",
   "language": "python",
   "name": "python3"
  },
  "language_info": {
   "name": "python",
   "version": "3.10.6"
  },
  "orig_nbformat": 4,
  "vscode": {
   "interpreter": {
    "hash": "1c364f05d66defba0a6a129acd038123b55a6ccb36d1bf9dad2c42b7d360c856"
   }
  }
 },
 "nbformat": 4,
 "nbformat_minor": 2
}
