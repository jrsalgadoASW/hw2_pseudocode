{
 "cells": [
  {
   "attachments": {},
   "cell_type": "markdown",
   "metadata": {},
   "source": [
    "# Convex Hull"
   ]
  },
  {
   "attachments": {},
   "cell_type": "markdown",
   "metadata": {},
   "source": [
    "## Algorithm"
   ]
  },
  {
   "attachments": {},
   "cell_type": "markdown",
   "metadata": {},
   "source": [
    "1. Find the leftmost point: Start by finding the point with the minimum x-coordinate in the set of points. This point will be the starting point for the convex hull.\n",
    "\n",
    "2. Initialize the hull: Create an empty list to store the points that make up the convex hull. Add the starting point to this list.\n",
    "\n",
    "3. Find the next point: Starting from the starting point, find the point with the smallest angle with respect to the current point. This will be the next point on the convex hull.\n",
    "\n",
    "4. Repeat steps 3 and 4: Repeat the process of finding the next point with the smallest angle until the next point is the starting point. At this point, the convex hull has been constructed and the list of points can be returned.\n",
    "\n",
    "5. Check for collinear points: If multiple points have the same angle with respect to the current point, choose the point with the largest distance from the current point."
   ]
  }
 ],
 "metadata": {
  "kernelspec": {
   "display_name": ".venv",
   "language": "python",
   "name": "python3"
  },
  "language_info": {
   "name": "python",
   "version": "3.10.6"
  },
  "orig_nbformat": 4,
  "vscode": {
   "interpreter": {
    "hash": "1c364f05d66defba0a6a129acd038123b55a6ccb36d1bf9dad2c42b7d360c856"
   }
  }
 },
 "nbformat": 4,
 "nbformat_minor": 2
}
