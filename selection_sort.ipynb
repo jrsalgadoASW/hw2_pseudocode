{
 "cells": [
  {
   "attachments": {},
   "cell_type": "markdown",
   "metadata": {},
   "source": [
    "\n",
    "# Selection Sort"
   ]
  },
  {
   "attachments": {},
   "cell_type": "markdown",
   "metadata": {},
   "source": [
    "## Algorithm"
   ]
  },
  {
   "attachments": {},
   "cell_type": "markdown",
   "metadata": {},
   "source": [
    "1. Start with the first element in the list\n",
    "2. Compare this element to the rest of the elements in the list\n",
    "3. If you find an element smaller than the current element, remember its index\n",
    "4. Repeat steps 2-3 for the rest of the elements in the list\n",
    "5. Swap the current element with the smallest element found in step 3\n",
    "6. Repeat steps 1-5 for the rest of the list"
   ]
  },
  {
   "attachments": {},
   "cell_type": "markdown",
   "metadata": {},
   "source": [
    "## Pseudocode"
   ]
  },
  {
   "attachments": {},
   "cell_type": "markdown",
   "metadata": {},
   "source": [
    "Input: A list\n",
    "\n",
    "Output: Sorted list\n",
    "\n",
    "```\n",
    "\\fn selection_sort(list):\n",
    "    \\for {element_index from 0 to | list |}\n",
    "        smaller_index = element_index\n",
    "        \\for {current_index from 1 to | list |}\n",
    "            \\if {list[current_index] < list[smaller_index]}:\n",
    "                smaller_index = current_index\n",
    "            \\endif\n",
    "        \\endfor\n",
    "        swap(list[element_index], list[smaller_index])\n",
    "    \\endfor\n",
    "\\endfn\n",
    "```\n",
    "\n"
   ]
  },
  {
   "attachments": {},
   "cell_type": "markdown",
   "metadata": {},
   "source": [
    "## Implementation"
   ]
  },
  {
   "cell_type": "code",
   "execution_count": null,
   "metadata": {},
   "outputs": [],
   "source": [
    "\n",
    "def selection_sort(list:list):\n",
    "    for element_index in range(0, len(list)):\n",
    "        smaller_index = element_index\n",
    "        for current_index in range(1,  len(list)):\n",
    "            if list[current_index] < list[smaller_index]:\n",
    "                smaller_index = current_index\n",
    "        #Swaping in python\n",
    "        list[element_index], list[smaller_index] = list[smaller_index], list[element_index]"
   ]
  },
  {
   "attachments": {},
   "cell_type": "markdown",
   "metadata": {},
   "source": [
    "## Analysis"
   ]
  },
  {
   "attachments": {},
   "cell_type": "markdown",
   "metadata": {},
   "source": [
    "For each element in the array, the algorithm checks the every element to select the smallest one, and swaps them. Intuituvely, this would mean a $O(n^2)$ complexity. Analysing the code, we can see that there is a double loop, iterating the lenght of the array."
   ]
  },
  {
   "attachments": {},
   "cell_type": "markdown",
   "metadata": {},
   "source": []
  },
  {
   "cell_type": "markdown",
   "metadata": {},
   "source": []
  }
 ],
 "metadata": {
  "kernelspec": {
   "display_name": ".venv",
   "language": "python",
   "name": "python3"
  },
  "language_info": {
   "name": "python",
   "version": "3.10.6"
  },
  "orig_nbformat": 4,
  "vscode": {
   "interpreter": {
    "hash": "1c364f05d66defba0a6a129acd038123b55a6ccb36d1bf9dad2c42b7d360c856"
   }
  }
 },
 "nbformat": 4,
 "nbformat_minor": 2
}
